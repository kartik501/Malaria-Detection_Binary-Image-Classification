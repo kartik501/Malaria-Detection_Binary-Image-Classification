{
 "cells": [
  {
   "cell_type": "markdown",
   "metadata": {},
   "source": [
    "# Table of Contents\n",
    " 1. Introduction to Problem Statment\n",
    " 2. Understanding Folder Structure\n",
    " 3. Understanding Data Set\n",
    " 4. Data Preparation\n",
    " 5. Method1: Pixel values as features\n",
    " 6. Model1: Model building using Pixel Features\n",
    " 7. Method 2: HOG Features\n",
    " 8. Model2: Model building using HOG Features"
   ]
  },
  {
   "cell_type": "markdown",
   "metadata": {
    "colab_type": "text",
    "id": "iwSC8wkmtWHh"
   },
   "source": [
    "# 1. Introduction to Problem Statement\n",
    "\n",
    "Malaria is one of the deadliest diseases. It is a life-threatening disease caused by parasites that are transmitted to people through the bites of infected female Anopheles mosquitoes. It is preventable and curable.\n",
    "\n",
    "\n",
    "However, Malaria diagnosis involves close examination of the blood smear at 100x magnification. This is followed by a manual counting process wherein experts count the number of Red blood cells impacted by parasites. Automatic detection of Malaria from blood smear image is a scalable solution and can save a lot of hours for healthcare industry going a long way in our battle against this deadly disease. In this project, we try to identify from blood smears using deep learning to predict whether the sample is taken from an infected person.\n"
   ]
  },
  {
   "cell_type": "markdown",
   "metadata": {
    "colab_type": "text",
    "id": "T1o769dztWHi"
   },
   "source": [
    "# 2. Understanding Folder Structure\n",
    "Let us try to understand the folder structure of the dataset first before we plunge in and have a look at the dataset and blood smear images."
   ]
  },
  {
   "cell_type": "code",
   "execution_count": 4,
   "metadata": {
    "colab": {
     "base_uri": "https://localhost:8080/",
     "height": 34
    },
    "colab_type": "code",
    "id": "HXbAor65tWHj",
    "outputId": "d501050f-3767-42c5-94c1-9de50fa8148e",
    "scrolled": true
   },
   "outputs": [
    {
     "name": "stderr",
     "output_type": "stream",
     "text": [
      "'ls' is not recognized as an internal or external command,\n",
      "operable program or batch file.\n"
     ]
    }
   ],
   "source": [
    "!ls"
   ]
  },
  {
   "cell_type": "markdown",
   "metadata": {
    "colab_type": "text",
    "id": "YGkHpCOUNHr9"
   },
   "source": [
    "The cell images folder contains all the images of the dataset and the file train.csv contain image names belonging to dataset and their corresponding labels i.e. Parasitized/Uninfected.\n",
    "Now lets see the names of images present in our dataset."
   ]
  },
  {
   "cell_type": "code",
   "execution_count": 5,
   "metadata": {
    "colab": {},
    "colab_type": "code",
    "id": "hrYLiAyatWHq",
    "scrolled": true
   },
   "outputs": [
    {
     "name": "stderr",
     "output_type": "stream",
     "text": [
      "'ls' is not recognized as an internal or external command,\n",
      "operable program or batch file.\n"
     ]
    }
   ],
   "source": [
    "!ls cell_images/"
   ]
  },
  {
   "cell_type": "code",
   "execution_count": 3,
   "metadata": {},
   "outputs": [],
   "source": [
    "#Storing the base directory \n",
    "import os\n",
    "\n",
    "base_dir = os.path.join('./cell_images')"
   ]
  },
  {
   "cell_type": "markdown",
   "metadata": {},
   "source": [
    "# 3. Understanding Data Set"
   ]
  },
  {
   "cell_type": "markdown",
   "metadata": {},
   "source": [
    "First of all, let's set the base directory for reading images as all the images of the dataset are present in this directory."
   ]
  },
  {
   "cell_type": "code",
   "execution_count": 12,
   "metadata": {
    "colab": {},
    "colab_type": "code",
    "id": "pR3f9foAtWH3",
    "scrolled": true
   },
   "outputs": [],
   "source": [
    "import numpy as np\n",
    "import pandas as pd"
   ]
  },
  {
   "cell_type": "markdown",
   "metadata": {
    "colab_type": "text",
    "id": "xJciBQjNtWH8"
   },
   "source": [
    "Now lets import the train.csv and look at its contents."
   ]
  },
  {
   "cell_type": "code",
   "execution_count": 13,
   "metadata": {
    "colab": {
     "base_uri": "https://localhost:8080/",
     "height": 34
    },
    "colab_type": "code",
    "id": "IiRmCmpjtWH9",
    "outputId": "242e775d-58c5-4a7f-cc8a-bdd330f42d5a",
    "scrolled": true
   },
   "outputs": [
    {
     "data": {
      "text/plain": [
       "(19290, 2)"
      ]
     },
     "execution_count": 13,
     "metadata": {},
     "output_type": "execute_result"
    }
   ],
   "source": [
    "train_df = pd.read_csv('train.csv')\n",
    "train_df.shape"
   ]
  },
  {
   "cell_type": "code",
   "execution_count": 14,
   "metadata": {
    "colab": {
     "base_uri": "https://localhost:8080/",
     "height": 204
    },
    "colab_type": "code",
    "id": "oYL9-7tqWuzI",
    "outputId": "74dea482-392c-4860-bbf6-306948f4f012",
    "scrolled": true
   },
   "outputs": [
    {
     "data": {
      "text/html": [
       "<div>\n",
       "<style scoped>\n",
       "    .dataframe tbody tr th:only-of-type {\n",
       "        vertical-align: middle;\n",
       "    }\n",
       "\n",
       "    .dataframe tbody tr th {\n",
       "        vertical-align: top;\n",
       "    }\n",
       "\n",
       "    .dataframe thead th {\n",
       "        text-align: right;\n",
       "    }\n",
       "</style>\n",
       "<table border=\"1\" class=\"dataframe\">\n",
       "  <thead>\n",
       "    <tr style=\"text-align: right;\">\n",
       "      <th></th>\n",
       "      <th>filename</th>\n",
       "      <th>label</th>\n",
       "    </tr>\n",
       "  </thead>\n",
       "  <tbody>\n",
       "    <tr>\n",
       "      <th>0</th>\n",
       "      <td>C50P11thinF_IMG_20150724_114951_cell_148.png</td>\n",
       "      <td>malaria</td>\n",
       "    </tr>\n",
       "    <tr>\n",
       "      <th>1</th>\n",
       "      <td>C112P73ThinF_IMG_20150930_131659_cell_94.png</td>\n",
       "      <td>healthy</td>\n",
       "    </tr>\n",
       "    <tr>\n",
       "      <th>2</th>\n",
       "      <td>C59P20thinF_IMG_20150803_111333_cell_144.png</td>\n",
       "      <td>malaria</td>\n",
       "    </tr>\n",
       "    <tr>\n",
       "      <th>3</th>\n",
       "      <td>C158P119ThinF_IMG_20151115_181136_cell_202.png</td>\n",
       "      <td>malaria</td>\n",
       "    </tr>\n",
       "    <tr>\n",
       "      <th>4</th>\n",
       "      <td>C81P42ThinF_IMG_20150817_120524_cell_190.png</td>\n",
       "      <td>malaria</td>\n",
       "    </tr>\n",
       "  </tbody>\n",
       "</table>\n",
       "</div>"
      ],
      "text/plain": [
       "                                         filename    label\n",
       "0    C50P11thinF_IMG_20150724_114951_cell_148.png  malaria\n",
       "1    C112P73ThinF_IMG_20150930_131659_cell_94.png  healthy\n",
       "2    C59P20thinF_IMG_20150803_111333_cell_144.png  malaria\n",
       "3  C158P119ThinF_IMG_20151115_181136_cell_202.png  malaria\n",
       "4    C81P42ThinF_IMG_20150817_120524_cell_190.png  malaria"
      ]
     },
     "execution_count": 14,
     "metadata": {},
     "output_type": "execute_result"
    }
   ],
   "source": [
    "train_df.head()"
   ]
  },
  {
   "cell_type": "code",
   "execution_count": 15,
   "metadata": {
    "colab": {
     "base_uri": "https://localhost:8080/",
     "height": 68
    },
    "colab_type": "code",
    "id": "W67wGZA_EYxl",
    "outputId": "ae280242-a605-451e-daef-f055ed2e75c8",
    "scrolled": true
   },
   "outputs": [
    {
     "data": {
      "text/plain": [
       "malaria    9645\n",
       "healthy    9645\n",
       "Name: label, dtype: int64"
      ]
     },
     "execution_count": 15,
     "metadata": {},
     "output_type": "execute_result"
    }
   ],
   "source": [
    "#understand the distribution of both classes in the training data set\n",
    "train_df['label'].value_counts()"
   ]
  },
  {
   "cell_type": "markdown",
   "metadata": {
    "colab_type": "text",
    "id": "Bnss05_TOFRW"
   },
   "source": [
    "From the above cell we can observe that our train set consists of equal samples of both the classes thus we will not face any problem due to class imbalance in the dataset.\n"
   ]
  },
  {
   "cell_type": "code",
   "execution_count": 16,
   "metadata": {},
   "outputs": [
    {
     "data": {
      "text/plain": [
       "<Figure size 1080x1080 with 0 Axes>"
      ]
     },
     "metadata": {},
     "output_type": "display_data"
    },
    {
     "data": {
      "image/png": "[encoded data removed]",
      "text/plain": [
       "<Figure size 432x288 with 4 Axes>"
      ]
     },
     "metadata": {
      "needs_background": "light"
     },
     "output_type": "display_data"
    }
   ],
   "source": [
    "import matplotlib.pyplot as plt\n",
    "from skimage.io import imread, imshow\n",
    "\n",
    "plt.figure(figsize=(15,15))\n",
    "fig, ax = plt.subplots(nrows=2, ncols=2)\n",
    "\n",
    "for i in range(2):\n",
    "    for j in range(2):\n",
    "        #Reading files after concatenating file name with folder path\n",
    "        image = imread(os.path.join(base_dir,train_df[\"filename\"][i+2*j]))\n",
    "        #showing some images of the dataset\n",
    "        ax[i,j].imshow(image)\n",
    "        ax[i,j].set_ylabel(train_df[\"label\"][i+2*j])"
   ]
  },
  {
   "cell_type": "markdown",
   "metadata": {},
   "source": [
    "# 4. Data Preparation"
   ]
  },
  {
   "cell_type": "markdown",
   "metadata": {
    "colab_type": "text",
    "id": "9Dcrg_TQO0WC"
   },
   "source": [
    "1. since we have textual labels for our images i.e. Parasitized/Uninfected so we will convert them to numerical labels i.e. 0/1"
   ]
  },
  {
   "cell_type": "code",
   "execution_count": 17,
   "metadata": {
    "colab": {
     "base_uri": "https://localhost:8080/",
     "height": 1105
    },
    "colab_type": "code",
    "id": "y1trosZhEuOM",
    "outputId": "7c20ee33-3f49-434a-a7da-b87d0e43b5e0",
    "scrolled": true
   },
   "outputs": [
    {
     "name": "stdout",
     "output_type": "stream",
     "text": [
      "0 -  ['healthy']\n",
      "1 -  ['malaria']\n"
     ]
    }
   ],
   "source": [
    "from sklearn import preprocessing\n",
    "\n",
    "#create the LabelEncoder object\n",
    "le = preprocessing.LabelEncoder()\n",
    "\n",
    "# Fit label Encoder\n",
    "le.fit(train_df['label'])\n",
    "\n",
    "#transform textual labels\n",
    "labels = le.transform(train_df['label'])\n",
    "\n",
    "print('0 - ',le.inverse_transform([0]))\n",
    "print('1 - ',le.inverse_transform([1]))"
   ]
  },
  {
   "cell_type": "markdown",
   "metadata": {
    "colab_type": "text",
    "id": "ljdBvqdDSkdX"
   },
   "source": [
    "2. Here we split the dataset into training and validation sets.\n",
    "Training set is the subset of the dataset that is used for training and validation set is used to evaluate the performance of the model after every epoch."
   ]
  },
  {
   "cell_type": "code",
   "execution_count": 18,
   "metadata": {
    "colab": {
     "base_uri": "https://localhost:8080/",
     "height": 51
    },
    "colab_type": "code",
    "id": "e06xMzcTtWIG",
    "outputId": "e0228485-6ea4-452a-cb3f-c9694ed806ab",
    "scrolled": true
   },
   "outputs": [
    {
     "name": "stdout",
     "output_type": "stream",
     "text": [
      "(15432,) (3858,)\n",
      "(15432,) (3858,)\n"
     ]
    }
   ],
   "source": [
    "#import required functions\n",
    "from sklearn.model_selection import train_test_split\n",
    "\n",
    "#divide the dataset into training and validation sets\n",
    "train_files, val_files, train_labels, val_labels = train_test_split(train_df['filename'],\n",
    "                                                                    labels, \n",
    "                                                                    test_size=0.2, random_state=42,shuffle=True)\n",
    "#check the shapes of training and validation sets\n",
    "print(train_files.shape, val_files.shape)\n",
    "print(train_labels.shape,val_labels.shape)"
   ]
  },
  {
   "cell_type": "code",
   "execution_count": 19,
   "metadata": {},
   "outputs": [],
   "source": [
    "from skimage.io import imread, imshow\n",
    "from skimage.transform import resize"
   ]
  },
  {
   "cell_type": "code",
   "execution_count": 20,
   "metadata": {},
   "outputs": [
    {
     "name": "stdout",
     "output_type": "stream",
     "text": [
      "Minimum Dimensions -  [40 49  3]\n",
      "Maximum Dimensions -  [385 364   3]\n",
      "Average Dimensions -  [132.9600311  132.58335925   3.        ]\n"
     ]
    }
   ],
   "source": [
    "shapes = []\n",
    "for i in train_df['filename']:\n",
    "    image = imread(os.path.join(base_dir,i))\n",
    "    shapes.append(image.shape)\n",
    "\n",
    "print('Minimum Dimensions - ',np.min(shapes,axis=0))\n",
    "print('Maximum Dimensions - ',np.max(shapes,axis=0))\n",
    "print('Average Dimensions - ',np.mean(shapes,axis=0))"
   ]
  },
  {
   "cell_type": "markdown",
   "metadata": {},
   "source": [
    "We can see that there are images of different shapes. It is recommended to have images in shape size before going ahead with modeling process and it is also dependent on which feature extractor tool, you are using. "
   ]
  },
  {
   "cell_type": "markdown",
   "metadata": {},
   "source": [
    "# 5. Method 1: Pixel Values as Features"
   ]
  },
  {
   "cell_type": "markdown",
   "metadata": {},
   "source": [
    "Here, we will use pixel value as a feature to classify images in Parasitized/Uninfected images. Although, we have looked at that these images are of different shapes so we will bring all the images in same shape by resizing to 40X40. And, after that convert two dimensional matrix to one dimensional vector. So, for each images, we will have 1600 (40X40) features."
   ]
  },
  {
   "cell_type": "code",
   "execution_count": 21,
   "metadata": {},
   "outputs": [],
   "source": [
    "IMG_DIMS=(40,40)\n",
    "train_features_pixel=[]\n",
    "\n",
    "for i in train_files:\n",
    "    image = imread(os.path.join(base_dir,i))\n",
    "    image = resize(image,IMG_DIMS)\n",
    "    features = np.reshape(image,(IMG_DIMS[0]*IMG_DIMS[1]*3))\n",
    "    train_features_pixel.append(features)\n",
    "\n",
    "train_features_pixel = np.array(train_features_pixel)"
   ]
  },
  {
   "cell_type": "code",
   "execution_count": 22,
   "metadata": {},
   "outputs": [
    {
     "data": {
      "text/plain": [
       "(15432, 4800)"
      ]
     },
     "execution_count": 22,
     "metadata": {},
     "output_type": "execute_result"
    }
   ],
   "source": [
    "train_features_pixel.shape"
   ]
  },
  {
   "cell_type": "code",
   "execution_count": 23,
   "metadata": {},
   "outputs": [],
   "source": [
    "IMG_DIMS=(40,40)\n",
    "val_features_pixel=[]\n",
    "\n",
    "for i in val_files:\n",
    "    image = imread(os.path.join(base_dir,i))\n",
    "    image = resize(image,IMG_DIMS)\n",
    "    features = np.reshape(image,(IMG_DIMS[0]*IMG_DIMS[1]*3))\n",
    "    val_features_pixel.append(features)\n",
    "\n",
    "val_features_pixel = np.array(val_features_pixel)"
   ]
  },
  {
   "cell_type": "code",
   "execution_count": 24,
   "metadata": {},
   "outputs": [
    {
     "data": {
      "text/plain": [
       "(3858, 4800)"
      ]
     },
     "execution_count": 24,
     "metadata": {},
     "output_type": "execute_result"
    }
   ],
   "source": [
    "val_features_pixel.shape"
   ]
  },
  {
   "cell_type": "markdown",
   "metadata": {},
   "source": [
    "# 6. Model1: Model building using Pixel Features"
   ]
  },
  {
   "cell_type": "markdown",
   "metadata": {},
   "source": [
    "## Logistic Regression"
   ]
  },
  {
   "cell_type": "code",
   "execution_count": 25,
   "metadata": {},
   "outputs": [
    {
     "name": "stderr",
     "output_type": "stream",
     "text": [
      "C:\\Users\\Kartik Kotian\\anaconda3\\lib\\site-packages\\sklearn\\linear_model\\_logistic.py:763: ConvergenceWarning: lbfgs failed to converge (status=1):\n",
      "STOP: TOTAL NO. of ITERATIONS REACHED LIMIT.\n",
      "\n",
      "Increase the number of iterations (max_iter) or scale the data as shown in:\n",
      "    https://scikit-learn.org/stable/modules/preprocessing.html\n",
      "Please also refer to the documentation for alternative solver options:\n",
      "    https://scikit-learn.org/stable/modules/linear_model.html#logistic-regression\n",
      "  n_iter_i = _check_optimize_result(\n"
     ]
    },
    {
     "data": {
      "text/plain": [
       "LogisticRegression()"
      ]
     },
     "execution_count": 25,
     "metadata": {},
     "output_type": "execute_result"
    }
   ],
   "source": [
    "from sklearn.linear_model import LogisticRegression\n",
    "from sklearn.metrics import accuracy_score\n",
    "\n",
    "#training the Logistic model\n",
    "clf_lr_pixel = LogisticRegression()\n",
    "clf_lr_pixel.fit(train_features_pixel,train_labels)"
   ]
  },
  {
   "cell_type": "code",
   "execution_count": 26,
   "metadata": {},
   "outputs": [
    {
     "name": "stdout",
     "output_type": "stream",
     "text": [
      "Training: Model Accuracy -  72.94582685329186 %\n",
      "Validation: Model Accuracy -  68.50699844479004 %\n"
     ]
    }
   ],
   "source": [
    "preditions_train = clf_lr_pixel.predict(train_features_pixel)\n",
    "print(\"Training: Model Accuracy - \",accuracy_score(train_labels,preditions_train)*100,'%')\n",
    "\n",
    "predictions_val = clf_lr_pixel.predict(val_features_pixel)\n",
    "print(\"Validation: Model Accuracy - \",accuracy_score(predictions_val,val_labels)*100,'%')"
   ]
  },
  {
   "cell_type": "markdown",
   "metadata": {},
   "source": [
    "## Linear SVM"
   ]
  },
  {
   "cell_type": "code",
   "execution_count": 47,
   "metadata": {},
   "outputs": [
    {
     "data": {
      "text/plain": [
       "LinearSVC(C=1.0, class_weight=None, dual=True, fit_intercept=True,\n",
       "     intercept_scaling=1, loss='squared_hinge', max_iter=1000,\n",
       "     multi_class='ovr', penalty='l2', random_state=102, tol=0.0001,\n",
       "     verbose=0)"
      ]
     },
     "execution_count": 47,
     "metadata": {},
     "output_type": "execute_result"
    }
   ],
   "source": [
    "from sklearn.svm import LinearSVC\n",
    "\n",
    "#training the Logistic model\n",
    "clf_svc_pixel = LinearSVC(random_state=102)\n",
    "clf_svc_pixel.fit(train_features_pixel,train_labels)"
   ]
  },
  {
   "cell_type": "code",
   "execution_count": 48,
   "metadata": {},
   "outputs": [
    {
     "name": "stdout",
     "output_type": "stream",
     "text": [
      "Training: Model Accuracy -  69.0772420943494 %\n",
      "Validation: Model Accuracy -  63.089683773976155 %\n"
     ]
    }
   ],
   "source": [
    "preditions_train = clf_svc_pixel.predict(train_features_pixel)\n",
    "print(\"Training: Model Accuracy - \",accuracy_score(train_labels,preditions_train)*100,'%')\n",
    "\n",
    "predictions_val = clf_svc_pixel.predict(val_features_pixel)\n",
    "print(\"Validation: Model Accuracy - \",accuracy_score(predictions_val,val_labels)*100,'%')"
   ]
  },
  {
   "cell_type": "markdown",
   "metadata": {},
   "source": [
    "# 7. Method 2: HOG Features"
   ]
  },
  {
   "cell_type": "markdown",
   "metadata": {},
   "source": [
    "Your image size should be in 64X128(Width X Height) shape to extract HOG features from images. We will first change image shape size to 64X128 first and then extract HOG features."
   ]
  },
  {
   "cell_type": "code",
   "execution_count": 27,
   "metadata": {},
   "outputs": [],
   "source": [
    "from skimage.feature import hog"
   ]
  },
  {
   "cell_type": "code",
   "execution_count": 28,
   "metadata": {},
   "outputs": [],
   "source": [
    "#Showing example of one image first\n",
    "index= np.random.randint(0,1000)\n",
    "\n",
    "image = imread(os.path.join(base_dir,train_files.iloc[index]))\n",
    "IMG_DIMS = (128,64) # SkIMAGE takes input in HEIGHT X WIDTH format\n",
    "image1 = resize(image,IMG_DIMS)\n",
    "#calculating HOG features\n",
    "features, hog_image = hog(image1, orientations=9, pixels_per_cell=(8, 8),\n",
    "                    cells_per_block=(2, 2), visualize=True, multichannel=True)"
   ]
  },
  {
   "cell_type": "code",
   "execution_count": 29,
   "metadata": {},
   "outputs": [
    {
     "data": {
      "text/plain": [
       "<matplotlib.image.AxesImage at 0x244776d13a0>"
      ]
     },
     "execution_count": 29,
     "metadata": {},
     "output_type": "execute_result"
    },
    {
     "data": {
      "image/png": "[encoded data removed]",
      "text/plain": [
       "<Figure size 432x288 with 1 Axes>"
      ]
     },
     "metadata": {
      "needs_background": "light"
     },
     "output_type": "display_data"
    }
   ],
   "source": [
    "#Original Image\n",
    "imshow(image)"
   ]
  },
  {
   "cell_type": "code",
   "execution_count": 30,
   "metadata": {},
   "outputs": [
    {
     "data": {
      "text/plain": [
       "<matplotlib.image.AxesImage at 0x2447773f5b0>"
      ]
     },
     "execution_count": 30,
     "metadata": {},
     "output_type": "execute_result"
    },
    {
     "data": {
      "image/png": "[encoded data removed]",
      "text/plain": [
       "<Figure size 432x288 with 1 Axes>"
      ]
     },
     "metadata": {
      "needs_background": "light"
     },
     "output_type": "display_data"
    }
   ],
   "source": [
    "#After Resize\n",
    "imshow(image1)"
   ]
  },
  {
   "cell_type": "code",
   "execution_count": 31,
   "metadata": {},
   "outputs": [
    {
     "data": {
      "text/plain": [
       "<matplotlib.image.AxesImage at 0x244777a48e0>"
      ]
     },
     "execution_count": 31,
     "metadata": {},
     "output_type": "execute_result"
    },
    {
     "data": {
      "image/png": "[encoded data removed]",
      "text/plain": [
       "<Figure size 432x288 with 1 Axes>"
      ]
     },
     "metadata": {
      "needs_background": "light"
     },
     "output_type": "display_data"
    }
   ],
   "source": [
    "#Image with HOG Image (Look At the Edges)\n",
    "imshow(hog_image)"
   ]
  },
  {
   "cell_type": "code",
   "execution_count": 32,
   "metadata": {},
   "outputs": [
    {
     "data": {
      "text/plain": [
       "<matplotlib.image.AxesImage at 0x2447780cb50>"
      ]
     },
     "execution_count": 32,
     "metadata": {},
     "output_type": "execute_result"
    },
    {
     "data": {
      "image/png": "[encoded data removed]",
      "text/plain": [
       "<Figure size 432x288 with 1 Axes>"
      ]
     },
     "metadata": {
      "needs_background": "light"
     },
     "output_type": "display_data"
    }
   ],
   "source": [
    "#Highlighting the HOG image using Matplotlib\n",
    "import matplotlib.pyplot as plt\n",
    "plt.imshow(hog_image, cmap=\"gray\")"
   ]
  },
  {
   "cell_type": "code",
   "execution_count": 33,
   "metadata": {},
   "outputs": [
    {
     "data": {
      "text/plain": [
       "(3780,)"
      ]
     },
     "execution_count": 33,
     "metadata": {},
     "output_type": "execute_result"
    }
   ],
   "source": [
    "#Shape of HOG Feature Vector\n",
    "features.shape"
   ]
  },
  {
   "cell_type": "markdown",
   "metadata": {},
   "source": [
    "## Calculate HOG features for both training and Validation images"
   ]
  },
  {
   "cell_type": "code",
   "execution_count": 34,
   "metadata": {
    "colab": {
     "base_uri": "https://localhost:8080/",
     "height": 248
    },
    "colab_type": "code",
    "id": "4HmXqmzZtWIP",
    "outputId": "22338b2a-3797-4a51-b5e7-180794b1b777",
    "scrolled": true
   },
   "outputs": [
    {
     "data": {
      "text/plain": [
       "((15432, 3780), (3858, 3780))"
      ]
     },
     "execution_count": 34,
     "metadata": {},
     "output_type": "execute_result"
    }
   ],
   "source": [
    "IMG_DIMS = (128,64)\n",
    "\n",
    "#For Training Images\n",
    "\n",
    "train_features_hog = []\n",
    "for i in train_files:\n",
    "    image = imread(os.path.join(base_dir,i))\n",
    "    image = resize(image,IMG_DIMS)\n",
    "    #calculating HOG features\n",
    "    features, hog_image = hog(image, orientations=9, pixels_per_cell=(8, 8),\n",
    "                    cells_per_block=(2, 2), visualize=True, multichannel=True)\n",
    "    hog_features = np.reshape(features,(features.shape[0]))\n",
    "    train_features_hog.append(hog_features)\n",
    "\n",
    "train_features_hog = np.array(train_features_hog)\n",
    "  \n",
    "#For Validation Images\n",
    "\n",
    "val_features_hog = []\n",
    "for i in val_files:\n",
    "    image = imread(os.path.join(base_dir,i))\n",
    "    image = resize(image,IMG_DIMS)\n",
    "    #calculating HOG features\n",
    "    features, hog_image = hog(image, orientations=9, pixels_per_cell=(8, 8),\n",
    "                    cells_per_block=(2, 2), visualize=True, multichannel=True)\n",
    "    hog_features = np.reshape(features,(features.shape[0]))\n",
    "    val_features_hog.append(hog_features)\n",
    "\n",
    "val_features_hog = np.array(val_features_hog)\n",
    "\n",
    "#checking the shape of the final lists after reading all the images\n",
    "train_features_hog.shape, val_features_hog.shape"
   ]
  },
  {
   "cell_type": "markdown",
   "metadata": {},
   "source": [
    "# 8. Model2: Model building using HOG Features"
   ]
  },
  {
   "cell_type": "markdown",
   "metadata": {},
   "source": [
    "## Logistic Regression"
   ]
  },
  {
   "cell_type": "code",
   "execution_count": 35,
   "metadata": {},
   "outputs": [
    {
     "name": "stderr",
     "output_type": "stream",
     "text": [
      "C:\\Users\\Kartik Kotian\\anaconda3\\lib\\site-packages\\sklearn\\linear_model\\_logistic.py:763: ConvergenceWarning: lbfgs failed to converge (status=1):\n",
      "STOP: TOTAL NO. of ITERATIONS REACHED LIMIT.\n",
      "\n",
      "Increase the number of iterations (max_iter) or scale the data as shown in:\n",
      "    https://scikit-learn.org/stable/modules/preprocessing.html\n",
      "Please also refer to the documentation for alternative solver options:\n",
      "    https://scikit-learn.org/stable/modules/linear_model.html#logistic-regression\n",
      "  n_iter_i = _check_optimize_result(\n"
     ]
    },
    {
     "data": {
      "text/plain": [
       "LogisticRegression()"
      ]
     },
     "execution_count": 35,
     "metadata": {},
     "output_type": "execute_result"
    }
   ],
   "source": [
    "from sklearn.linear_model import LogisticRegression\n",
    "from sklearn.metrics import accuracy_score\n",
    "\n",
    "#training the Logistic model\n",
    "clf_lr_hog = LogisticRegression()\n",
    "clf_lr_hog.fit(train_features_hog,train_labels)"
   ]
  },
  {
   "cell_type": "code",
   "execution_count": 36,
   "metadata": {},
   "outputs": [
    {
     "name": "stdout",
     "output_type": "stream",
     "text": [
      "Training: Model Accuracy -  88.98392949714878 %\n",
      "Validation: Model Accuracy -  82.16692586832556 %\n"
     ]
    }
   ],
   "source": [
    "preditions_train = clf_lr_hog.predict(train_features_hog)\n",
    "print(\"Training: Model Accuracy - \",accuracy_score(train_labels,preditions_train)*100,'%')\n",
    "\n",
    "predictions_val = clf_lr_hog.predict(val_features_hog)\n",
    "print(\"Validation: Model Accuracy - \",accuracy_score(predictions_val,val_labels)*100,'%')"
   ]
  },
  {
   "cell_type": "markdown",
   "metadata": {},
   "source": [
    "## Linear SVM"
   ]
  },
  {
   "cell_type": "code",
   "execution_count": 60,
   "metadata": {},
   "outputs": [
    {
     "data": {
      "text/plain": [
       "LinearSVC(C=1.0, class_weight=None, dual=True, fit_intercept=True,\n",
       "     intercept_scaling=1, loss='squared_hinge', max_iter=1000,\n",
       "     multi_class='ovr', penalty='l2', random_state=None, tol=0.0001,\n",
       "     verbose=0)"
      ]
     },
     "execution_count": 60,
     "metadata": {},
     "output_type": "execute_result"
    }
   ],
   "source": [
    "from sklearn.svm import LinearSVC\n",
    "\n",
    "#training the Logistic model\n",
    "clf_svc_hog = LinearSVC()\n",
    "clf_svc_hog.fit(train_features_hog,train_labels)"
   ]
  },
  {
   "cell_type": "code",
   "execution_count": 61,
   "metadata": {},
   "outputs": [
    {
     "name": "stdout",
     "output_type": "stream",
     "text": [
      "Training: Model Accuracy -  92.6905132192846 %\n",
      "Validation: Model Accuracy -  81.00051840331778 %\n"
     ]
    }
   ],
   "source": [
    "preditions_train = clf_svc_hog.predict(train_features_hog)\n",
    "print(\"Training: Model Accuracy - \",accuracy_score(train_labels,preditions_train)*100,'%')\n",
    "\n",
    "predictions_val = clf_svc_hog.predict(val_features_hog)\n",
    "print(\"Validation: Model Accuracy - \",accuracy_score(predictions_val,val_labels)*100,'%')"
   ]
  }
 ],
 "metadata": {
  "accelerator": "GPU",
  "colab": {
   "collapsed_sections": [],
   "name": "Malaria Detection Notebook.ipynb",
   "provenance": [],
   "version": "0.3.2"
  },
  "kernelspec": {
   "display_name": "Python 3 (ipykernel)",
   "language": "python",
   "name": "python3"
  },
  "language_info": {
   "codemirror_mode": {
    "name": "ipython",
    "version": 3
   },
   "file_extension": ".py",
   "mimetype": "text/x-python",
   "name": "python",
   "nbconvert_exporter": "python",
   "pygments_lexer": "ipython3",
   "version": "3.9.7"
  }
 },
 "nbformat": 4,
 "nbformat_minor": 1
}
